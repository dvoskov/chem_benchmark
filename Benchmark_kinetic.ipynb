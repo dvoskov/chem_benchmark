{
 "cells": [
  {
   "cell_type": "code",
   "execution_count": null,
   "metadata": {
    "scrolled": false
   },
   "outputs": [],
   "source": [
    "import numpy as np\n",
    "import pandas as pd\n",
    "from model import Model\n",
    "from darts.engines import redirect_darts_output\n",
    "\n",
    "redirect_darts_output('run.log')\n",
    "n = Model()\n",
    "n.init()\n",
    "\n",
    "# Make arrays for report-steps over time:\n",
    "sim_time = 1000\n",
    "dt = 1\n",
    "n.params.max_ts = dt\n",
    "\n",
    "nc = 4\n",
    "nb = 1000\n",
    "\n",
    "Xn = np.array(n.physics.engine.X, copy=True)\n",
    "initial_sol = Xn[:nb * nc]\n",
    "intermed_sol = np.zeros((nb * nc,))\n",
    "final_sol = np.zeros((nb * nc,))\n",
    "\n",
    "print(\"Start simulation\")\n",
    "n.run(sim_time)\n",
    "print(\"Finish simulation\")\n",
    "n.print_stat()\n",
    "Xn = np.array(n.physics.engine.X, copy=True)\n",
    "\n",
    "time_data = pd.DataFrame.from_dict(n.physics.engine.time_data)\n",
    "time_data.to_pickle(\"darts_time_data.pkl\")\n",
    "n.save_restart_data()\n",
    "writer = pd.ExcelWriter('time_data.xlsx')\n",
    "time_data.to_excel(writer, 'Sheet1')\n",
    "writer.save()\n",
    "\n",
    "n.print_and_plot('sim_data_final.txt')"
   ]
  },
  {
   "cell_type": "code",
   "execution_count": null,
   "metadata": {},
   "outputs": [],
   "source": []
  }
 ],
 "metadata": {
  "kernelspec": {
   "display_name": "Python 3",
   "language": "python",
   "name": "python3"
  }
 },
 "nbformat": 4,
 "nbformat_minor": 4
}
